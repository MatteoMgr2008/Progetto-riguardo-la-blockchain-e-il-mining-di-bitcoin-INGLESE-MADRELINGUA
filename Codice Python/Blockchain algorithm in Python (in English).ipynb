{
 "cells": [
  {
   "cell_type": "markdown",
   "metadata": {},
   "source": [
    "The following steps describe how to create a blockchain entirely in Python."
   ]
  },
  {
   "cell_type": "markdown",
   "metadata": {},
   "source": [
    "# LIBRARY IMPORT"
   ]
  },
  {
   "cell_type": "code",
   "execution_count": 1,
   "metadata": {},
   "outputs": [],
   "source": [
    "# Importing the necessary library\n",
    "import hashlib"
   ]
  },
  {
   "cell_type": "markdown",
   "metadata": {},
   "source": [
    "# CREATING A BLOCK CLASS"
   ]
  },
  {
   "cell_type": "code",
   "execution_count": 2,
   "metadata": {},
   "outputs": [],
   "source": [
    "# Creating a block class\n",
    "class Block:\n",
    "    # Creating a constructor for the block class\n",
    "    def __init__(self, data, previous_hash):\n",
    "        self.data=data\n",
    "        self.previous_hash=previous_hash\n",
    "        self.hash=self.calculate_hash()\n",
    "    # Creating a method to calculate hash using SHA-256 encryption system\n",
    "    def calculate_hash(self):\n",
    "        sha=hashlib.sha256() # SHA-256 = Secure Hash Algoritm 256 bit\n",
    "        sha.update(self.data.encode(\"utf-8\")) # Transform the data in a Unicode format in 8 bit\n",
    "        return sha.hexdigest() # Returns the hash of a given input as a hexadecimal string"
   ]
  },
  {
   "cell_type": "markdown",
   "metadata": {},
   "source": [
    "# CREATING THE BLOCKCHAIN CLASS"
   ]
  },
  {
   "cell_type": "code",
   "execution_count": 3,
   "metadata": {},
   "outputs": [],
   "source": [
    "# Creating a blockchain class\n",
    "class Blockchain:\n",
    "    # Creating a constructor for the blockchain class\n",
    "    def __init__(self):\n",
    "        self.chain=[] # Initialize the blockchain block list\n",
    "        self.chain.append(self.genesis_block()) # Insert the genesis block as the first one\n",
    "    # Creating a method to creates the \"Genenis block\", meaning what is the first block of a blockchain\n",
    "    def genesis_block(self):\n",
    "        return Block(\"The genesis block\", \"0\")\n",
    "    # Creating a method to create a new block and adds it to for the blockchain (the list)\n",
    "    def add_new_block(self, data):\n",
    "        previous_block=self.chain[-1]\n",
    "        new_block=Block(data, previous_block.hash)\n",
    "        self.chain.append(new_block)"
   ]
  },
  {
   "cell_type": "markdown",
   "metadata": {},
   "source": [
    "# TESTING THE BLOCKCHAIN"
   ]
  },
  {
   "cell_type": "code",
   "execution_count": 4,
   "metadata": {},
   "outputs": [],
   "source": [
    "# Testing the blockchain\n",
    "blockchain=Blockchain()"
   ]
  },
  {
   "cell_type": "markdown",
   "metadata": {},
   "source": [
    "## ADDING DATA TO THE BLOCKCHAIN"
   ]
  },
  {
   "cell_type": "code",
   "execution_count": 5,
   "metadata": {},
   "outputs": [],
   "source": [
    "# Adding data to the blockchain\n",
    "def num_data_blocks_blockchain():\n",
    "    # Adding a specific number of blocks to the blockchain\n",
    "    num_input_blocks=int(input(\"How many blocks do you want to add to the blockchain: \"))\n",
    "    print()\n",
    "    # Entering individual data for each block\n",
    "    for i in range(num_input_blocks):\n",
    "        data=input(f\"Enter the data for the block number {i+1}: \")\n",
    "        blockchain.add_new_block(data)\n",
    "    print()"
   ]
  },
  {
   "cell_type": "markdown",
   "metadata": {},
   "source": [
    "## COUNT OF BLOCKS PRESENT IN THE BLOCKCHAIN"
   ]
  },
  {
   "cell_type": "code",
   "execution_count": 6,
   "metadata": {},
   "outputs": [],
   "source": [
    "# Counting the number of blocks present in the blockchain\n",
    "def count_blocks_blockchain():\n",
    "    num_tot_blocks=0\n",
    "    for block in blockchain.chain:\n",
    "        num_tot_blocks=num_tot_blocks+1\n",
    "    print(f\"In this blockchain there is/are in total {num_tot_blocks} block(s): (1 genesis block + {num_tot_blocks-1} normal block(s))\")"
   ]
  },
  {
   "cell_type": "markdown",
   "metadata": {},
   "source": [
    "## PRINTING THE FINAL BLOCKCHAIN"
   ]
  },
  {
   "cell_type": "code",
   "execution_count": 7,
   "metadata": {},
   "outputs": [],
   "source": [
    "# Printing all the elements of each block of the blockchain\n",
    "def block_element_info_blockchain():\n",
    "    i=-1\n",
    "    print(f\"In this blockchain there is/are the block(s):\")\n",
    "    print()\n",
    "    for block in blockchain.chain:\n",
    "        i+=1\n",
    "        print(f\"The block number {i} is composed of:\")\n",
    "        print(f\"The data is: {block.data}\")\n",
    "        print(f\"The previuos hash is: {block.previous_hash}\")\n",
    "        print(f\"The hash of the block is: {block.hash}\")\n",
    "        print()"
   ]
  },
  {
   "cell_type": "markdown",
   "metadata": {},
   "source": [
    "# FINAL BLOCKCHAIN"
   ]
  },
  {
   "cell_type": "code",
   "execution_count": 8,
   "metadata": {},
   "outputs": [],
   "source": [
    "# Execution of all created functions\n",
    "def final_blockchain():\n",
    "    num_data_blocks_blockchain()\n",
    "    block_element_info_blockchain()\n",
    "    count_blocks_blockchain()\n",
    "    print()\n",
    "    input(\"Press Enter to exit the program... \")"
   ]
  },
  {
   "cell_type": "code",
   "execution_count": 9,
   "metadata": {},
   "outputs": [
    {
     "name": "stdout",
     "output_type": "stream",
     "text": [
      "\n",
      "\n",
      "In this blockchain there is/are the block(s):\n",
      "\n",
      "The block number 0 is composed of:\n",
      "The data is: The genesis block\n",
      "The previuos hash is: 0\n",
      "The hash of the block is: a60558ffeb06932db4cb691d8304baf6457336e641be41ac6c6a21dc332d4496\n",
      "\n",
      "The block number 1 is composed of:\n",
      "The data is: a\n",
      "The previuos hash is: a60558ffeb06932db4cb691d8304baf6457336e641be41ac6c6a21dc332d4496\n",
      "The hash of the block is: ca978112ca1bbdcafac231b39a23dc4da786eff8147c4e72b9807785afee48bb\n",
      "\n",
      "The block number 2 is composed of:\n",
      "The data is: b\n",
      "The previuos hash is: ca978112ca1bbdcafac231b39a23dc4da786eff8147c4e72b9807785afee48bb\n",
      "The hash of the block is: 3e23e8160039594a33894f6564e1b1348bbd7a0088d42c4acb73eeaed59c009d\n",
      "\n",
      "The block number 3 is composed of:\n",
      "The data is: c\n",
      "The previuos hash is: 3e23e8160039594a33894f6564e1b1348bbd7a0088d42c4acb73eeaed59c009d\n",
      "The hash of the block is: 2e7d2c03a9507ae265ecf5b5356885a53393a2029d241394997265a1a25aefc6\n",
      "\n",
      "The block number 4 is composed of:\n",
      "The data is: d\n",
      "The previuos hash is: 2e7d2c03a9507ae265ecf5b5356885a53393a2029d241394997265a1a25aefc6\n",
      "The hash of the block is: 18ac3e7343f016890c510e93f935261169d9e3f565436429830faf0934f4f8e4\n",
      "\n",
      "The block number 5 is composed of:\n",
      "The data is: e\n",
      "The previuos hash is: 18ac3e7343f016890c510e93f935261169d9e3f565436429830faf0934f4f8e4\n",
      "The hash of the block is: 3f79bb7b435b05321651daefd374cdc681dc06faa65e374e38337b88ca046dea\n",
      "\n",
      "In this blockchain there is/are in total 6 block(s): (1 genesis block + 5 normal block(s))\n",
      "\n"
     ]
    }
   ],
   "source": [
    "# Executing the final summary function of the other functions\n",
    "final_blockchain()"
   ]
  }
 ],
 "metadata": {
  "kernelspec": {
   "display_name": "base",
   "language": "python",
   "name": "python3"
  },
  "language_info": {
   "codemirror_mode": {
    "name": "ipython",
    "version": 3
   },
   "file_extension": ".py",
   "mimetype": "text/x-python",
   "name": "python",
   "nbconvert_exporter": "python",
   "pygments_lexer": "ipython3",
   "version": "3.11.4"
  }
 },
 "nbformat": 4,
 "nbformat_minor": 2
}
